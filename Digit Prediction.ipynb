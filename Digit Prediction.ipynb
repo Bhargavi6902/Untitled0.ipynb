{
  "nbformat": 4,
  "nbformat_minor": 0,
  "metadata": {
    "colab": {
      "provenance": [],
      "authorship_tag": "ABX9TyNIG5FXO7yvtuRciXOU8jZj",
      "include_colab_link": true
    },
    "kernelspec": {
      "name": "python3",
      "display_name": "Python 3"
    },
    "language_info": {
      "name": "python"
    }
  },
  "cells": [
    {
      "cell_type": "markdown",
      "metadata": {
        "id": "view-in-github",
        "colab_type": "text"
      },
      "source": [
        "<a href=\"https://colab.research.google.com/github/Bhargavi6902/Untitled0.ipynb/blob/main/Untitled0.ipynb\" target=\"_parent\"><img src=\"https://colab.research.google.com/assets/colab-badge.svg\" alt=\"Open In Colab\"/></a>"
      ]
    },
    {
      "cell_type": "markdown",
      "source": [
        "# Import Libraries"
      ],
      "metadata": {
        "id": "IgI1uie54r4o"
      }
    },
    {
      "cell_type": "code",
      "execution_count": 33,
      "metadata": {
        "id": "7yP9EOOqRWeM"
      },
      "outputs": [],
      "source": [
        "import pandas as pd"
      ]
    },
    {
      "cell_type": "code",
      "source": [
        "import numpy as np"
      ],
      "metadata": {
        "id": "kaGHbtBPRpQo"
      },
      "execution_count": 34,
      "outputs": []
    },
    {
      "cell_type": "code",
      "source": [
        "import matplotlib.pyplot as plt"
      ],
      "metadata": {
        "id": "Yn_i-elgRzGg"
      },
      "execution_count": 35,
      "outputs": []
    },
    {
      "cell_type": "markdown",
      "source": [
        "# Import Data"
      ],
      "metadata": {
        "id": "uNTU6Bze40PP"
      }
    },
    {
      "cell_type": "code",
      "source": [
        "from sklearn.datasets import load_digits"
      ],
      "metadata": {
        "id": "WOsS9NLDTBRE"
      },
      "execution_count": 36,
      "outputs": []
    },
    {
      "cell_type": "code",
      "source": [
        "df = load_digits()"
      ],
      "metadata": {
        "id": "Tf2uQuOwTMD3"
      },
      "execution_count": 37,
      "outputs": []
    },
    {
      "cell_type": "code",
      "source": [
        "_,axes = plt.subplots(nrows = 1, ncols=4, figsize=(10, 3))\n",
        "for ax, image, label in zip(axes, df.images, df.target):\n",
        "  ax.set_axis_off()\n",
        "  ax.imshow(image, cmap=plt.cm.gray_r, interpolation=\"nearest\")\n",
        "  ax.set_title(\"Training: %i\" % label)"
      ],
      "metadata": {
        "colab": {
          "base_uri": "https://localhost:8080/",
          "height": 227
        },
        "id": "8ia8TtdATeh2",
        "outputId": "19c81696-c5a9-4e0f-9051-279b937d3678"
      },
      "execution_count": 38,
      "outputs": [
        {
          "output_type": "display_data",
          "data": {
            "text/plain": [
              "<Figure size 1000x300 with 4 Axes>"
            ],
            "image/png": "[encoded data removed]"
          },
          "metadata": {}
        }
      ]
    },
    {
      "cell_type": "markdown",
      "source": [
        "# Data Preprocessing"
      ],
      "metadata": {
        "id": "nclyyUkY4gHq"
      }
    },
    {
      "cell_type": "markdown",
      "source": [
        "flatten Image\n",
        "                   8 X 8 Image\n",
        "                    ![picture](data:image/png;base64,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)"
      ],
      "metadata": {
        "id": "vNuK6fLMXie6"
      }
    },
    {
      "cell_type": "code",
      "source": [
        "df.images.shape"
      ],
      "metadata": {
        "colab": {
          "base_uri": "https://localhost:8080/"
        },
        "id": "iJZg8TLXbaqJ",
        "outputId": "861461ba-d6b0-4a36-ed2b-f4e38a850309"
      },
      "execution_count": 39,
      "outputs": [
        {
          "output_type": "execute_result",
          "data": {
            "text/plain": [
              "(1797, 8, 8)"
            ]
          },
          "metadata": {},
          "execution_count": 39
        }
      ]
    },
    {
      "cell_type": "code",
      "source": [
        "df.images[0]"
      ],
      "metadata": {
        "colab": {
          "base_uri": "https://localhost:8080/"
        },
        "id": "CnKlrB4rbe6O",
        "outputId": "ddfe1136-6d4b-4b19-fa37-bfc8f064f7d9"
      },
      "execution_count": 40,
      "outputs": [
        {
          "output_type": "execute_result",
          "data": {
            "text/plain": [
              "array([[ 0.,  0.,  5., 13.,  9.,  1.,  0.,  0.],\n",
              "       [ 0.,  0., 13., 15., 10., 15.,  5.,  0.],\n",
              "       [ 0.,  3., 15.,  2.,  0., 11.,  8.,  0.],\n",
              "       [ 0.,  4., 12.,  0.,  0.,  8.,  8.,  0.],\n",
              "       [ 0.,  5.,  8.,  0.,  0.,  9.,  8.,  0.],\n",
              "       [ 0.,  4., 11.,  0.,  1., 12.,  7.,  0.],\n",
              "       [ 0.,  2., 14.,  5., 10., 12.,  0.,  0.],\n",
              "       [ 0.,  0.,  6., 13., 10.,  0.,  0.,  0.]])"
            ]
          },
          "metadata": {},
          "execution_count": 40
        }
      ]
    },
    {
      "cell_type": "code",
      "source": [
        "df.images[0].shape"
      ],
      "metadata": {
        "colab": {
          "base_uri": "https://localhost:8080/"
        },
        "id": "s5aAHfaGbjrZ",
        "outputId": "b432c069-da78-4e18-ba66-16b80097d881"
      },
      "execution_count": 41,
      "outputs": [
        {
          "output_type": "execute_result",
          "data": {
            "text/plain": [
              "(8, 8)"
            ]
          },
          "metadata": {},
          "execution_count": 41
        }
      ]
    },
    {
      "cell_type": "code",
      "source": [
        "len(df.images)"
      ],
      "metadata": {
        "colab": {
          "base_uri": "https://localhost:8080/"
        },
        "id": "McQYiMW0b6MG",
        "outputId": "bd1398cf-ebe7-4525-ebc1-dbe4e4ac0a58"
      },
      "execution_count": 42,
      "outputs": [
        {
          "output_type": "execute_result",
          "data": {
            "text/plain": [
              "1797"
            ]
          },
          "metadata": {},
          "execution_count": 42
        }
      ]
    },
    {
      "cell_type": "code",
      "source": [
        "n_samples=len(df.images)\n",
        "data=df.images.reshape((n_samples, -1))"
      ],
      "metadata": {
        "id": "Xxo-rnvOcFKl"
      },
      "execution_count": 43,
      "outputs": []
    },
    {
      "cell_type": "code",
      "source": [
        "data[0]"
      ],
      "metadata": {
        "colab": {
          "base_uri": "https://localhost:8080/"
        },
        "id": "ra-VHnf0cyPp",
        "outputId": "c459de86-9b68-4fbe-ee8b-155635674eb5"
      },
      "execution_count": 44,
      "outputs": [
        {
          "output_type": "execute_result",
          "data": {
            "text/plain": [
              "array([ 0.,  0.,  5., 13.,  9.,  1.,  0.,  0.,  0.,  0., 13., 15., 10.,\n",
              "       15.,  5.,  0.,  0.,  3., 15.,  2.,  0., 11.,  8.,  0.,  0.,  4.,\n",
              "       12.,  0.,  0.,  8.,  8.,  0.,  0.,  5.,  8.,  0.,  0.,  9.,  8.,\n",
              "        0.,  0.,  4., 11.,  0.,  1., 12.,  7.,  0.,  0.,  2., 14.,  5.,\n",
              "       10., 12.,  0.,  0.,  0.,  0.,  6., 13., 10.,  0.,  0.,  0.])"
            ]
          },
          "metadata": {},
          "execution_count": 44
        }
      ]
    },
    {
      "cell_type": "code",
      "source": [
        "data[0].shape"
      ],
      "metadata": {
        "colab": {
          "base_uri": "https://localhost:8080/"
        },
        "id": "rmWAj35bc19l",
        "outputId": "5d7f7e02-979c-47d0-a942-648ea6a3953e"
      },
      "execution_count": 45,
      "outputs": [
        {
          "output_type": "execute_result",
          "data": {
            "text/plain": [
              "(64,)"
            ]
          },
          "metadata": {},
          "execution_count": 45
        }
      ]
    },
    {
      "cell_type": "code",
      "source": [
        "data.shape"
      ],
      "metadata": {
        "colab": {
          "base_uri": "https://localhost:8080/"
        },
        "id": "pqdK-_zIdSc1",
        "outputId": "8d425010-4c75-4745-dfc3-88dd1c71dc0d"
      },
      "execution_count": 46,
      "outputs": [
        {
          "output_type": "execute_result",
          "data": {
            "text/plain": [
              "(1797, 64)"
            ]
          },
          "metadata": {},
          "execution_count": 46
        }
      ]
    },
    {
      "cell_type": "markdown",
      "source": [
        "# Scaling Image Data"
      ],
      "metadata": {
        "id": "yZ533Cin49jq"
      }
    },
    {
      "cell_type": "code",
      "source": [
        "data.min()"
      ],
      "metadata": {
        "colab": {
          "base_uri": "https://localhost:8080/"
        },
        "id": "XKNmApKPdXYp",
        "outputId": "318bea41-8cba-4812-b97c-4a877ce730d3"
      },
      "execution_count": 47,
      "outputs": [
        {
          "output_type": "execute_result",
          "data": {
            "text/plain": [
              "0.0"
            ]
          },
          "metadata": {},
          "execution_count": 47
        }
      ]
    },
    {
      "cell_type": "code",
      "source": [
        "data.max()"
      ],
      "metadata": {
        "colab": {
          "base_uri": "https://localhost:8080/"
        },
        "id": "oTKnU04tehKu",
        "outputId": "3045462b-c0ee-404d-8f94-4740fe18d00b"
      },
      "execution_count": 48,
      "outputs": [
        {
          "output_type": "execute_result",
          "data": {
            "text/plain": [
              "16.0"
            ]
          },
          "metadata": {},
          "execution_count": 48
        }
      ]
    },
    {
      "cell_type": "code",
      "source": [
        "data=data/16"
      ],
      "metadata": {
        "id": "dv9XhjRhejE1"
      },
      "execution_count": 49,
      "outputs": []
    },
    {
      "cell_type": "code",
      "source": [
        "data.min()"
      ],
      "metadata": {
        "colab": {
          "base_uri": "https://localhost:8080/"
        },
        "id": "GbcZCW4ken09",
        "outputId": "e278aa64-80e8-472b-e16a-59a45f2f97e1"
      },
      "execution_count": 50,
      "outputs": [
        {
          "output_type": "execute_result",
          "data": {
            "text/plain": [
              "0.0"
            ]
          },
          "metadata": {},
          "execution_count": 50
        }
      ]
    },
    {
      "cell_type": "code",
      "source": [
        "data.max()"
      ],
      "metadata": {
        "colab": {
          "base_uri": "https://localhost:8080/"
        },
        "id": "34QVTf4Hen9l",
        "outputId": "385ab6f0-acea-432b-d34c-748c874c9f0d"
      },
      "execution_count": 51,
      "outputs": [
        {
          "output_type": "execute_result",
          "data": {
            "text/plain": [
              "1.0"
            ]
          },
          "metadata": {},
          "execution_count": 51
        }
      ]
    },
    {
      "cell_type": "code",
      "source": [
        "data[0]"
      ],
      "metadata": {
        "colab": {
          "base_uri": "https://localhost:8080/"
        },
        "id": "rS_wWET4e4P2",
        "outputId": "024c0b1f-7a77-4328-c72f-209b23041eab"
      },
      "execution_count": 52,
      "outputs": [
        {
          "output_type": "execute_result",
          "data": {
            "text/plain": [
              "array([0.    , 0.    , 0.3125, 0.8125, 0.5625, 0.0625, 0.    , 0.    ,\n",
              "       0.    , 0.    , 0.8125, 0.9375, 0.625 , 0.9375, 0.3125, 0.    ,\n",
              "       0.    , 0.1875, 0.9375, 0.125 , 0.    , 0.6875, 0.5   , 0.    ,\n",
              "       0.    , 0.25  , 0.75  , 0.    , 0.    , 0.5   , 0.5   , 0.    ,\n",
              "       0.    , 0.3125, 0.5   , 0.    , 0.    , 0.5625, 0.5   , 0.    ,\n",
              "       0.    , 0.25  , 0.6875, 0.    , 0.0625, 0.75  , 0.4375, 0.    ,\n",
              "       0.    , 0.125 , 0.875 , 0.3125, 0.625 , 0.75  , 0.    , 0.    ,\n",
              "       0.    , 0.    , 0.375 , 0.8125, 0.625 , 0.    , 0.    , 0.    ])"
            ]
          },
          "metadata": {},
          "execution_count": 52
        }
      ]
    },
    {
      "cell_type": "markdown",
      "source": [
        "# Train Test Split Data"
      ],
      "metadata": {
        "id": "XBdvDne05SXf"
      }
    },
    {
      "cell_type": "code",
      "source": [
        "from sklearn.model_selection import train_test_split"
      ],
      "metadata": {
        "id": "ot_K89y_lCxs"
      },
      "execution_count": 53,
      "outputs": []
    },
    {
      "cell_type": "code",
      "source": [
        "x_train, x_test, y_train, y_test = train_test_split(data, df.target, test_size=0.3)"
      ],
      "metadata": {
        "id": "mbfR-Xa1lDDu"
      },
      "execution_count": 54,
      "outputs": []
    },
    {
      "cell_type": "code",
      "source": [
        "x_train.shape, x_test.shape, y_train.shape, y_test.shape"
      ],
      "metadata": {
        "colab": {
          "base_uri": "https://localhost:8080/"
        },
        "id": "9gICM7Q1lDQo",
        "outputId": "a6d30ba9-2a28-4484-e954-6d3a8f220a38"
      },
      "execution_count": 55,
      "outputs": [
        {
          "output_type": "execute_result",
          "data": {
            "text/plain": [
              "((1257, 64), (540, 64), (1257,), (540,))"
            ]
          },
          "metadata": {},
          "execution_count": 55
        }
      ]
    },
    {
      "cell_type": "markdown",
      "source": [
        "# Random Forest Model"
      ],
      "metadata": {
        "id": "dEh7yXRP5a9G"
      }
    },
    {
      "cell_type": "code",
      "source": [
        "from sklearn.ensemble import RandomForestClassifier"
      ],
      "metadata": {
        "id": "Cx1zZNCZmP0b"
      },
      "execution_count": 56,
      "outputs": []
    },
    {
      "cell_type": "code",
      "source": [
        "rf = RandomForestClassifier()"
      ],
      "metadata": {
        "id": "lH8KPpZYmie0"
      },
      "execution_count": 57,
      "outputs": []
    },
    {
      "cell_type": "code",
      "source": [
        "rf.fit(x_train, y_train)"
      ],
      "metadata": {
        "colab": {
          "base_uri": "https://localhost:8080/",
          "height": 74
        },
        "id": "99HAdO7rmlkW",
        "outputId": "e711ac87-13a3-450b-b06e-ccce6e228e05"
      },
      "execution_count": 58,
      "outputs": [
        {
          "output_type": "execute_result",
          "data": {
            "text/plain": [
              "RandomForestClassifier()"
            ],
            "text/html": [
              "<style>#sk-container-id-2 {color: black;background-color: white;}#sk-container-id-2 pre{padding: 0;}#sk-container-id-2 div.sk-toggleable {background-color: white;}#sk-container-id-2 label.sk-toggleable__label {cursor: pointer;display: block;width: 100%;margin-bottom: 0;padding: 0.3em;box-sizing: border-box;text-align: center;}#sk-container-id-2 label.sk-toggleable__label-arrow:before {content: \"▸\";float: left;margin-right: 0.25em;color: #696969;}#sk-container-id-2 label.sk-toggleable__label-arrow:hover:before {color: black;}#sk-container-id-2 div.sk-estimator:hover label.sk-toggleable__label-arrow:before {color: black;}#sk-container-id-2 div.sk-toggleable__content {max-height: 0;max-width: 0;overflow: hidden;text-align: left;background-color: #f0f8ff;}#sk-container-id-2 div.sk-toggleable__content pre {margin: 0.2em;color: black;border-radius: 0.25em;background-color: #f0f8ff;}#sk-container-id-2 input.sk-toggleable__control:checked~div.sk-toggleable__content {max-height: 200px;max-width: 100%;overflow: auto;}#sk-container-id-2 input.sk-toggleable__control:checked~label.sk-toggleable__label-arrow:before {content: \"▾\";}#sk-container-id-2 div.sk-estimator input.sk-toggleable__control:checked~label.sk-toggleable__label {background-color: #d4ebff;}#sk-container-id-2 div.sk-label input.sk-toggleable__control:checked~label.sk-toggleable__label {background-color: #d4ebff;}#sk-container-id-2 input.sk-hidden--visually {border: 0;clip: rect(1px 1px 1px 1px);clip: rect(1px, 1px, 1px, 1px);height: 1px;margin: -1px;overflow: hidden;padding: 0;position: absolute;width: 1px;}#sk-container-id-2 div.sk-estimator {font-family: monospace;background-color: #f0f8ff;border: 1px dotted black;border-radius: 0.25em;box-sizing: border-box;margin-bottom: 0.5em;}#sk-container-id-2 div.sk-estimator:hover {background-color: #d4ebff;}#sk-container-id-2 div.sk-parallel-item::after {content: \"\";width: 100%;border-bottom: 1px solid gray;flex-grow: 1;}#sk-container-id-2 div.sk-label:hover label.sk-toggleable__label {background-color: #d4ebff;}#sk-container-id-2 div.sk-serial::before {content: \"\";position: absolute;border-left: 1px solid gray;box-sizing: border-box;top: 0;bottom: 0;left: 50%;z-index: 0;}#sk-container-id-2 div.sk-serial {display: flex;flex-direction: column;align-items: center;background-color: white;padding-right: 0.2em;padding-left: 0.2em;position: relative;}#sk-container-id-2 div.sk-item {position: relative;z-index: 1;}#sk-container-id-2 div.sk-parallel {display: flex;align-items: stretch;justify-content: center;background-color: white;position: relative;}#sk-container-id-2 div.sk-item::before, #sk-container-id-2 div.sk-parallel-item::before {content: \"\";position: absolute;border-left: 1px solid gray;box-sizing: border-box;top: 0;bottom: 0;left: 50%;z-index: -1;}#sk-container-id-2 div.sk-parallel-item {display: flex;flex-direction: column;z-index: 1;position: relative;background-color: white;}#sk-container-id-2 div.sk-parallel-item:first-child::after {align-self: flex-end;width: 50%;}#sk-container-id-2 div.sk-parallel-item:last-child::after {align-self: flex-start;width: 50%;}#sk-container-id-2 div.sk-parallel-item:only-child::after {width: 0;}#sk-container-id-2 div.sk-dashed-wrapped {border: 1px dashed gray;margin: 0 0.4em 0.5em 0.4em;box-sizing: border-box;padding-bottom: 0.4em;background-color: white;}#sk-container-id-2 div.sk-label label {font-family: monospace;font-weight: bold;display: inline-block;line-height: 1.2em;}#sk-container-id-2 div.sk-label-container {text-align: center;}#sk-container-id-2 div.sk-container {/* jupyter's `normalize.less` sets `[hidden] { display: none; }` but bootstrap.min.css set `[hidden] { display: none !important; }` so we also need the `!important` here to be able to override the default hidden behavior on the sphinx rendered scikit-learn.org. See: https://github.com/scikit-learn/scikit-learn/issues/21755 */display: inline-block !important;position: relative;}#sk-container-id-2 div.sk-text-repr-fallback {display: none;}</style><div id=\"sk-container-id-2\" class=\"sk-top-container\"><div class=\"sk-text-repr-fallback\"><pre>RandomForestClassifier()</pre><b>In a Jupyter environment, please rerun this cell to show the HTML representation or trust the notebook. <br />On GitHub, the HTML representation is unable to render, please try loading this page with nbviewer.org.</b></div><div class=\"sk-container\" hidden><div class=\"sk-item\"><div class=\"sk-estimator sk-toggleable\"><input class=\"sk-toggleable__control sk-hidden--visually\" id=\"sk-estimator-id-2\" type=\"checkbox\" checked><label for=\"sk-estimator-id-2\" class=\"sk-toggleable__label sk-toggleable__label-arrow\">RandomForestClassifier</label><div class=\"sk-toggleable__content\"><pre>RandomForestClassifier()</pre></div></div></div></div></div>"
            ]
          },
          "metadata": {},
          "execution_count": 58
        }
      ]
    },
    {
      "cell_type": "markdown",
      "source": [
        "# Predict Test Data"
      ],
      "metadata": {
        "id": "MqJ99DgX5i0Z"
      }
    },
    {
      "cell_type": "code",
      "source": [
        "y_pred = rf.predict(x_test)"
      ],
      "metadata": {
        "id": "st8_gCDwn7Qa"
      },
      "execution_count": 59,
      "outputs": []
    },
    {
      "cell_type": "code",
      "source": [
        "y_pred"
      ],
      "metadata": {
        "colab": {
          "base_uri": "https://localhost:8080/"
        },
        "id": "f39BYZjyn_eY",
        "outputId": "323a72af-307b-4fa0-e3b6-cc9ea05bff82"
      },
      "execution_count": 60,
      "outputs": [
        {
          "output_type": "execute_result",
          "data": {
            "text/plain": [
              "array([5, 5, 1, 6, 7, 6, 9, 3, 0, 8, 5, 9, 1, 1, 8, 1, 2, 0, 0, 4, 6, 8,\n",
              "       5, 4, 7, 2, 4, 5, 2, 3, 4, 0, 6, 8, 5, 3, 3, 0, 2, 6, 6, 5, 2, 5,\n",
              "       6, 8, 8, 9, 0, 0, 5, 7, 3, 2, 6, 0, 7, 7, 5, 3, 7, 3, 3, 0, 5, 5,\n",
              "       7, 1, 2, 6, 7, 3, 9, 0, 2, 0, 6, 9, 2, 1, 3, 9, 5, 9, 1, 4, 8, 2,\n",
              "       6, 5, 7, 4, 0, 5, 9, 0, 3, 6, 2, 1, 9, 2, 8, 5, 5, 1, 3, 0, 3, 9,\n",
              "       4, 2, 4, 8, 0, 5, 8, 5, 0, 2, 1, 5, 2, 6, 6, 8, 2, 2, 8, 6, 9, 0,\n",
              "       9, 8, 5, 6, 1, 7, 8, 5, 3, 5, 5, 9, 0, 8, 7, 3, 0, 8, 3, 5, 6, 5,\n",
              "       8, 4, 3, 8, 2, 9, 7, 4, 3, 2, 3, 9, 4, 2, 4, 7, 2, 2, 9, 5, 6, 1,\n",
              "       0, 7, 1, 2, 4, 1, 0, 1, 5, 5, 7, 0, 1, 7, 8, 8, 5, 0, 9, 3, 3, 7,\n",
              "       7, 6, 5, 1, 0, 3, 8, 8, 6, 0, 4, 5, 2, 9, 7, 8, 3, 8, 9, 5, 0, 8,\n",
              "       6, 1, 2, 5, 4, 6, 9, 1, 0, 1, 1, 8, 4, 7, 3, 8, 6, 5, 7, 1, 0, 6,\n",
              "       7, 3, 8, 8, 8, 0, 0, 7, 2, 8, 8, 5, 4, 0, 6, 1, 5, 7, 6, 6, 8, 1,\n",
              "       3, 2, 6, 5, 0, 9, 4, 0, 3, 1, 5, 6, 5, 1, 2, 8, 4, 1, 3, 0, 1, 1,\n",
              "       5, 5, 4, 4, 9, 7, 2, 0, 6, 9, 9, 9, 6, 6, 2, 9, 8, 0, 0, 6, 5, 8,\n",
              "       2, 7, 8, 0, 2, 7, 4, 5, 3, 0, 5, 1, 2, 9, 9, 7, 9, 0, 0, 0, 9, 4,\n",
              "       4, 2, 5, 2, 8, 9, 9, 6, 1, 4, 3, 0, 8, 3, 5, 7, 0, 9, 1, 7, 1, 6,\n",
              "       0, 9, 6, 4, 9, 1, 1, 7, 1, 1, 4, 9, 6, 4, 7, 4, 5, 6, 1, 2, 3, 2,\n",
              "       4, 1, 5, 6, 8, 6, 5, 1, 2, 3, 1, 5, 9, 1, 2, 7, 9, 5, 2, 3, 2, 1,\n",
              "       6, 2, 0, 5, 4, 5, 3, 6, 6, 6, 5, 2, 3, 8, 4, 1, 4, 7, 5, 6, 7, 7,\n",
              "       8, 3, 4, 7, 9, 0, 0, 8, 5, 3, 9, 4, 3, 6, 9, 8, 1, 6, 7, 5, 4, 7,\n",
              "       1, 0, 1, 0, 9, 1, 8, 6, 5, 0, 6, 4, 1, 7, 8, 6, 8, 3, 5, 5, 0, 2,\n",
              "       7, 1, 7, 5, 3, 9, 1, 2, 1, 2, 6, 3, 0, 2, 6, 3, 2, 1, 6, 9, 1, 1,\n",
              "       1, 9, 1, 0, 6, 3, 8, 5, 6, 2, 9, 7, 4, 7, 9, 3, 8, 7, 1, 1, 5, 3,\n",
              "       1, 8, 8, 1, 0, 7, 4, 3, 0, 1, 0, 7, 1, 2, 8, 6, 0, 5, 3, 4, 3, 2,\n",
              "       4, 9, 1, 9, 3, 2, 9, 6, 2, 4, 2, 7])"
            ]
          },
          "metadata": {},
          "execution_count": 60
        }
      ]
    },
    {
      "cell_type": "markdown",
      "source": [
        "# Model Accuracy"
      ],
      "metadata": {
        "id": "DB-vVpl05r-s"
      }
    },
    {
      "cell_type": "code",
      "source": [
        "from sklearn.metrics import confusion_matrix, classification_report"
      ],
      "metadata": {
        "id": "6SNEpdhtoDLq"
      },
      "execution_count": 61,
      "outputs": []
    },
    {
      "cell_type": "code",
      "source": [
        "confusion_matrix(y_test, y_pred)"
      ],
      "metadata": {
        "colab": {
          "base_uri": "https://localhost:8080/"
        },
        "id": "RkWeDfC1oll5",
        "outputId": "73c725bb-aa64-480b-f8d5-1cc7f48ee317"
      },
      "execution_count": 62,
      "outputs": [
        {
          "output_type": "execute_result",
          "data": {
            "text/plain": [
              "array([[58,  0,  0,  0,  1,  0,  0,  0,  0,  0],\n",
              "       [ 0, 62,  0,  0,  0,  0,  0,  0,  0,  0],\n",
              "       [ 0,  0, 54,  0,  0,  0,  0,  0,  0,  0],\n",
              "       [ 0,  0,  0, 50,  0,  0,  0,  0,  0,  0],\n",
              "       [ 0,  0,  0,  0, 41,  0,  0,  0,  1,  0],\n",
              "       [ 0,  0,  0,  0,  0, 64,  0,  0,  0,  0],\n",
              "       [ 0,  0,  0,  0,  0,  0, 57,  0,  0,  0],\n",
              "       [ 0,  0,  0,  0,  0,  0,  0, 48,  1,  0],\n",
              "       [ 0,  2,  0,  0,  0,  0,  0,  0, 47,  0],\n",
              "       [ 0,  0,  0,  0,  0,  1,  0,  0,  3, 50]])"
            ]
          },
          "metadata": {},
          "execution_count": 62
        }
      ]
    },
    {
      "cell_type": "code",
      "source": [
        "print(classification_report(y_test, y_pred))"
      ],
      "metadata": {
        "colab": {
          "base_uri": "https://localhost:8080/"
        },
        "id": "ouNK2TPhoqo0",
        "outputId": "5c1e723e-ef9e-4199-985b-0aa694fbb1ab"
      },
      "execution_count": 63,
      "outputs": [
        {
          "output_type": "stream",
          "name": "stdout",
          "text": [
            "              precision    recall  f1-score   support\n",
            "\n",
            "           0       1.00      0.98      0.99        59\n",
            "           1       0.97      1.00      0.98        62\n",
            "           2       1.00      1.00      1.00        54\n",
            "           3       1.00      1.00      1.00        50\n",
            "           4       0.98      0.98      0.98        42\n",
            "           5       0.98      1.00      0.99        64\n",
            "           6       1.00      1.00      1.00        57\n",
            "           7       1.00      0.98      0.99        49\n",
            "           8       0.90      0.96      0.93        49\n",
            "           9       1.00      0.93      0.96        54\n",
            "\n",
            "    accuracy                           0.98       540\n",
            "   macro avg       0.98      0.98      0.98       540\n",
            "weighted avg       0.98      0.98      0.98       540\n",
            "\n"
          ]
        }
      ]
    }
  ]
}
